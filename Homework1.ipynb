{
 "cells": [
  {
   "cell_type": "code",
   "execution_count": 1,
   "metadata": {},
   "outputs": [],
   "source": [
    "# event_test.py : opencv가 감지할 수 있는 마우스 상태를 dir(cv2) 내부의 'EVENT'를 포함시키는 단어를 출력하면 알 수 있음.\n",
    "# 계속해서 마우스 상태를 감지하며\n",
    "# event가 마우스를 누른 상태이면 왼쪽위 좌표 설정, 이동한 상태이면 오른쪽 아래 이동하는동안 계속 설정, 마우스 떼면 마우스 클릭한 상태 변경 \n",
    "\n",
    "import cv2\n",
    "import numpy as np \n",
    "\n",
    "font = cv2.FONT_HERSHEY_SIMPLEX\n",
    "\n",
    "drawing = False # true if mouse is pressed\n",
    "ix, iy = -1,-1\n",
    "x2, y2 = -1,-1\n",
    "\n",
    "# Mouse Callback함수 : 파라미터는 고정됨.\n",
    "def draw_rectangle(event,x,y,flags,param):\n",
    "   global ix,iy,drawing,x2,y2\n",
    "\n",
    "   if event == cv2.EVENT_LBUTTONDOWN: # 마우스 왼쪽버튼이 눌려지는 경우\n",
    "      drawing = True\n",
    "      ix,iy = x,y\n",
    "\n",
    "   elif event == cv2.EVENT_MOUSEMOVE: # 마우스가 창 위에서 움직이는 경우\n",
    "      if drawing == True:\n",
    "         cv2.rectangle(img,(ix,iy),(x,y),(0,255,0),-1)\n",
    "         x2, y2 = x,y\n",
    "      else:\n",
    "         x2, y2 = x,y\n",
    "\n",
    "   elif event == cv2.EVENT_LBUTTONUP: # 마우스 왼쪽 버튼이 떼어지는 경우\n",
    "      drawing = False\n",
    "      cv2.rectangle(img,(ix,iy),(x,y),(0,255,0),-1)\n",
    "\n",
    "def nothing(x):\n",
    "    pass\n",
    "\n",
    "cv2.namedWindow('image')\n",
    "# 마우스 이벤트 후 callback 수행하는 함수 지정\n",
    "cv2.setMouseCallback('image',draw_rectangle)    \n",
    "# value 트랙바\n",
    "cv2.createTrackbar('value','image',0,255,nothing)\n",
    "img = cv2.imread('mountain.jpg')\n",
    "\n",
    "# main문 : 키보드로 esc를 받을때까지 화면을 계속 보여준다.\n",
    "while True:\n",
    "#  ball = img[:,:]\n",
    "   ball = img.copy()\n",
    "   cv2.putText(ball,'mouse position (%d, %d)' %(x2,y2), (10,50), font, 2, (255,255,255), 2, cv2.LINE_AA)\n",
    "   cv2.imshow('image', ball)    # 화면을 보여준다.\n",
    "\n",
    "   k = cv2.waitKey(1) & 0xFF   # 키보드 입력값을 받고\n",
    "        \n",
    "   if k == 27:               # esc를 누르면 종료\n",
    "      break\n",
    "\n",
    "cv2.destroyAllWindows()"
   ]
  }
 ],
 "metadata": {
  "kernelspec": {
   "display_name": "Python 3.8.13 ('opencv')",
   "language": "python",
   "name": "python3"
  },
  "language_info": {
   "codemirror_mode": {
    "name": "ipython",
    "version": 3
   },
   "file_extension": ".py",
   "mimetype": "text/x-python",
   "name": "python",
   "nbconvert_exporter": "python",
   "pygments_lexer": "ipython3",
   "version": "3.8.13"
  },
  "orig_nbformat": 4,
  "vscode": {
   "interpreter": {
    "hash": "77ec9461475bd820f316b361c48414cc75a1424ba4493b26f2966131a454e4d4"
   }
  }
 },
 "nbformat": 4,
 "nbformat_minor": 2
}
