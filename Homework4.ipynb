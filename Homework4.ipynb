{
 "cells": [
  {
   "cell_type": "code",
   "execution_count": null,
   "metadata": {},
   "outputs": [],
   "source": [
    "import numpy as np\n",
    "import cv2\n",
    "from matplotlib import pyplot as plt\n",
    "img1 = cv2.imread('scr1.jpg')\n",
    "img2 = cv2.imread('scr2.jpg')\n",
    "rows,cols,ch = img1.shape\n",
    "rows,cols,ch = img2.shape\n",
    "f_pts1 = np.float32([[324,281],[767,313],[325,536],[767,510]])\n",
    "f_pts2 = np.float32([[0,0],[300,0],[0,300],[300,300]])\n",
    "s_pts1 = np.float32([[105,228],[701,164],[110,501],[707,541]])\n",
    "s_pts2 = np.float32([[0,0],[300,0],[0,300],[300,300]])\n",
    "\n",
    "M1 = cv2.getPerspectiveTransform(f_pts1,f_pts2)\n",
    "M2 = cv2.getPerspectiveTransform(s_pts1,s_pts2)\n",
    "\n",
    "dst1 = cv2.warpPerspective(img1,M1,(300,300))\n",
    "dst2 = cv2.warpPerspective(img2,M2,(300,300))\n",
    "\n",
    "dst3 = cv2.add(dst1, dst2)\n",
    "cv2.imshow('dst',dst3)\n",
    "cv2.waitKey(0)\n",
    "cv2.destroyAllWindows()"
   ]
  }
 ],
 "metadata": {
  "language_info": {
   "name": "python"
  },
  "orig_nbformat": 4
 },
 "nbformat": 4,
 "nbformat_minor": 2
}
