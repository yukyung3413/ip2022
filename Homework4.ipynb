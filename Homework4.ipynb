{
 "cells": [
  {
   "cell_type": "code",
   "execution_count": 6,
   "metadata": {},
   "outputs": [],
   "source": [
    "import numpy as np\n",
    "import cv2\n",
    "from matplotlib import pyplot as plt\n",
    "\n",
    "img1 = cv2.imread('dsu1.jpg')\n",
    "img2 = cv2.imread('dsu4.jpg')\n",
    "\n",
    "rows,cols,ch = img1.shape\n",
    "rows,cols,ch = img2.shape\n",
    "\n",
    "f_pts1 = np.float32([[323,282],[762,313],[324,536],[767,510]])\n",
    "f_pts2 = np.float32([[0,0],[300,0],[0,300],[300,300]])\n",
    "s_pts1 = np.float32([[237,270],[569,233],[235,462],[568,497]])\n",
    "s_pts2 = np.float32([[0,0],[300,0],[0,300],[300,300]])\n",
    "\n",
    "M1 = cv2.getPerspectiveTransform(f_pts1,f_pts2)\n",
    "M2 = cv2.getPerspectiveTransform(s_pts1,s_pts2)\n",
    "\n",
    "dst1 = cv2.warpPerspective(img1,M1,(300,300))\n",
    "dst2 = cv2.warpPerspective(img2,M2,(300,300))\n",
    "\n",
    "\n",
    "dst3 = cv2.add(dst1, dst2)\n",
    "cv2.imshow('dst',dst3)\n",
    "cv2.waitKey(0)\n",
    "cv2.destroyAllWindows()"
   ]
  }
 ],
 "metadata": {
  "kernelspec": {
   "display_name": "Python 3.8.13 ('opencv')",
   "language": "python",
   "name": "python3"
  },
  "language_info": {
   "codemirror_mode": {
    "name": "ipython",
    "version": 3
   },
   "file_extension": ".py",
   "mimetype": "text/x-python",
   "name": "python",
   "nbconvert_exporter": "python",
   "pygments_lexer": "ipython3",
   "version": "3.8.13"
  },
  "orig_nbformat": 4,
  "vscode": {
   "interpreter": {
    "hash": "77ec9461475bd820f316b361c48414cc75a1424ba4493b26f2966131a454e4d4"
   }
  }
 },
 "nbformat": 4,
 "nbformat_minor": 2
}
